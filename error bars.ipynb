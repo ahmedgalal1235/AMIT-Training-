{
 "cells": [
  {
   "cell_type": "code",
   "execution_count": null,
   "id": "f2d459eb",
   "metadata": {},
   "outputs": [],
   "source": [
    "#we will create a bar plot with error bars using matplotib\n",
    "#error bar plot it shows the confiddence or precision in the set of measurments or calculated values\n",
    "\n",
    "import seaborn as sns\n",
    "%matplotib inline"
   ]
  },
  {
   "cell_type": "code",
   "execution_count": null,
   "id": "4b7cf200",
   "metadata": {},
   "outputs": [],
   "source": [
    "tips =sns.load_dataset(\"tips\")\n"
   ]
  },
  {
   "cell_type": "code",
   "execution_count": null,
   "id": "2bf2e35c",
   "metadata": {},
   "outputs": [],
   "source": [
    "#a bar charts with error bar is shown below note the lables on the x asix and the error bar at the top of each bar\n",
    "sns.barplot(x='sex',y='total_bill',data=tips)"
   ]
  },
  {
   "cell_type": "code",
   "execution_count": null,
   "id": "776d0564",
   "metadata": {},
   "outputs": [],
   "source": []
  }
 ],
 "metadata": {
  "kernelspec": {
   "display_name": "Python 3 (ipykernel)",
   "language": "python",
   "name": "python3"
  },
  "language_info": {
   "codemirror_mode": {
    "name": "ipython",
    "version": 3
   },
   "file_extension": ".py",
   "mimetype": "text/x-python",
   "name": "python",
   "nbconvert_exporter": "python",
   "pygments_lexer": "ipython3",
   "version": "3.9.12"
  }
 },
 "nbformat": 4,
 "nbformat_minor": 5
}
