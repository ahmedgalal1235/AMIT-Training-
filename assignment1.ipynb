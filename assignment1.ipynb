{
 "cells": [
  {
   "cell_type": "code",
   "execution_count": 7,
   "id": "fcb5d298",
   "metadata": {},
   "outputs": [
    {
     "name": "stdout",
     "output_type": "stream",
     "text": [
      "enter 1st no5\n",
      "enter 2nd no6\n"
     ]
    }
   ],
   "source": [
    "#take from user two no \n",
    "x,y=int(input(\"enter 1st no\")),int(input(\"enter 2nd no\"))"
   ]
  },
  {
   "cell_type": "code",
   "execution_count": 8,
   "id": "89628e61",
   "metadata": {},
   "outputs": [],
   "source": [
    " #and adding to no in varible z\n",
    "    z=x+y"
   ]
  },
  {
   "cell_type": "code",
   "execution_count": 9,
   "id": "2efa9b8f",
   "metadata": {},
   "outputs": [
    {
     "name": "stdout",
     "output_type": "stream",
     "text": [
      "11\n"
     ]
    }
   ],
   "source": [
    "# show value of z to user\n",
    "print(z)"
   ]
  },
  {
   "cell_type": "code",
   "execution_count": null,
   "id": "0d8f9b1c",
   "metadata": {},
   "outputs": [],
   "source": [
    "#senond solution "
   ]
  },
  {
   "cell_type": "code",
   "execution_count": 57,
   "id": "6c26a3a3",
   "metadata": {},
   "outputs": [
    {
     "name": "stdout",
     "output_type": "stream",
     "text": [
      "enter two no with spearte brtween them5 9\n"
     ]
    }
   ],
   "source": [
    "# it is an array has a fixed size with  integer varrible x  entered by user with separet between two number\n",
    "a,b=( int(x) for x in input('enter two no with spearte brtween them').split())\n"
   ]
  },
  {
   "cell_type": "code",
   "execution_count": 58,
   "id": "dffc4dc1",
   "metadata": {},
   "outputs": [],
   "source": [
    " #and adding two no in varible c\n",
    "c=a+b"
   ]
  },
  {
   "cell_type": "code",
   "execution_count": 59,
   "id": "fa3f40a1",
   "metadata": {},
   "outputs": [
    {
     "name": "stdout",
     "output_type": "stream",
     "text": [
      "14\n"
     ]
    }
   ],
   "source": [
    "#show value of c\n",
    "print(c)"
   ]
  },
  {
   "cell_type": "code",
   "execution_count": null,
   "id": "efac7522",
   "metadata": {},
   "outputs": [],
   "source": []
  }
 ],
 "metadata": {
  "kernelspec": {
   "display_name": "Python 3 (ipykernel)",
   "language": "python",
   "name": "python3"
  },
  "language_info": {
   "codemirror_mode": {
    "name": "ipython",
    "version": 3
   },
   "file_extension": ".py",
   "mimetype": "text/x-python",
   "name": "python",
   "nbconvert_exporter": "python",
   "pygments_lexer": "ipython3",
   "version": "3.9.12"
  }
 },
 "nbformat": 4,
 "nbformat_minor": 5
}
