{
 "cells": [
  {
   "cell_type": "markdown",
   "id": "8b2e78ba",
   "metadata": {},
   "source": [
    "## under methods"
   ]
  },
  {
   "cell_type": "code",
   "execution_count": 4,
   "id": "ecf30048",
   "metadata": {},
   "outputs": [
    {
     "name": "stdout",
     "output_type": "stream",
     "text": [
      "5\n",
      "5\n"
     ]
    }
   ],
   "source": [
    "#len() function used to find the length of any list\n",
    "nums = [1, 2, 3, 4, 5]\n",
    "print(len(nums)) \n",
    "print(nums.__len__()) "
   ]
  },
  {
   "cell_type": "markdown",
   "id": "e55b07a3",
   "metadata": {},
   "source": [
    "# args"
   ]
  },
  {
   "cell_type": "code",
   "execution_count": 14,
   "id": "12f25466",
   "metadata": {},
   "outputs": [
    {
     "name": "stdout",
     "output_type": "stream",
     "text": [
      "First argument : Hello\n",
      "Next argument through *argv : Welcome\n",
      "Next argument through *argv : to\n",
      "Next argument through *argv : GeeksforGeeks\n"
     ]
    }
   ],
   "source": [
    "def myFun(arg1, *argv):\n",
    "    print(\"First argument :\", arg1)\n",
    "    for arg in argv:\n",
    "        print(\"Next argument through *argv :\", arg)\n",
    "  \n",
    "  \n",
    "myFun('Hello', 'Welcome', 'to', 'GeeksforGeeks')\n",
    "#allows you to do is take in more arguments than the number of formal arguments that you previously defined"
   ]
  },
  {
   "cell_type": "markdown",
   "id": "575f5da0",
   "metadata": {},
   "source": [
    "# kwargs"
   ]
  },
  {
   "cell_type": "code",
   "execution_count": 19,
   "id": "a6713105",
   "metadata": {},
   "outputs": [],
   "source": [
    "#example\n",
    "def intro(data):\n",
    "    print(\"data type of parameter\",type(data))\n",
    "    for key,value in data.items():\n",
    "        print(\"{}is{}\".format(key,value))"
   ]
  },
  {
   "cell_type": "code",
   "execution_count": 21,
   "id": "f06a2ba5",
   "metadata": {},
   "outputs": [
    {
     "ename": "SyntaxError",
     "evalue": "positional argument follows keyword argument (3656723426.py, line 2)",
     "output_type": "error",
     "traceback": [
      "\u001b[1;36m  Input \u001b[1;32mIn [21]\u001b[1;36m\u001b[0m\n\u001b[1;33m    intro(firstname=\"ahmed\",lastname\"gala\",age=21,phone=3243534234)\u001b[0m\n\u001b[1;37m                                    ^\u001b[0m\n\u001b[1;31mSyntaxError\u001b[0m\u001b[1;31m:\u001b[0m positional argument follows keyword argument\n"
     ]
    }
   ],
   "source": [
    "#call and passing the parameters to the function\n",
    "intro(firstname=\"ahmed\",lastname\"gala\",age=21,phone=3243534234)"
   ]
  },
  {
   "cell_type": "markdown",
   "id": "7cc4edef",
   "metadata": {},
   "source": [
    "# encapsulation"
   ]
  },
  {
   "cell_type": "code",
   "execution_count": 23,
   "id": "a56a9348",
   "metadata": {},
   "outputs": [
    {
     "name": "stdout",
     "output_type": "stream",
     "text": [
      "Calling protected member of base class:  2\n",
      "Calling modified protected member outside class:  3\n",
      "Accessing protected member of obj1:  3\n",
      "Accessing protected member of obj2:  2\n"
     ]
    }
   ],
   "source": [
    "class Base:\n",
    "    def __init__(self):\n",
    " \n",
    "        # Protected member\n",
    "        self._a = 2\n",
    " #Creating a derived class\n",
    "class Derived(Base):\n",
    "    def __init__(self):\n",
    " \n",
    "        # Calling constructor of\n",
    "        # Base class\n",
    "        Base.__init__(self)\n",
    "        print(\"Calling protected member of base class: \",\n",
    "              self._a)\n",
    " \n",
    "        # Modify the protected variable:\n",
    "        self._a = 3\n",
    "        print(\"Calling modified protected member outside class: \",\n",
    "              self._a)\n",
    " \n",
    " \n",
    "obj1 = Derived()\n",
    " \n",
    "obj2 = Base()\n",
    " \n",
    "# Calling protected member\n",
    "# Can be accessed but should not be done due to convention\n",
    "print(\"Accessing protected member of obj1: \", obj1._a)\n",
    " \n",
    "# Access variable outside\n",
    "print(\"Accessing protected member of obj2: \", obj2._a)"
   ]
  },
  {
   "cell_type": "code",
   "execution_count": null,
   "id": "3f51f44c",
   "metadata": {},
   "outputs": [],
   "source": []
  }
 ],
 "metadata": {
  "kernelspec": {
   "display_name": "Python 3 (ipykernel)",
   "language": "python",
   "name": "python3"
  },
  "language_info": {
   "codemirror_mode": {
    "name": "ipython",
    "version": 3
   },
   "file_extension": ".py",
   "mimetype": "text/x-python",
   "name": "python",
   "nbconvert_exporter": "python",
   "pygments_lexer": "ipython3",
   "version": "3.9.12"
  }
 },
 "nbformat": 4,
 "nbformat_minor": 5
}
